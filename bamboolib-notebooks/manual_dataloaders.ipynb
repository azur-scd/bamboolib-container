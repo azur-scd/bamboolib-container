{
 "cells": [
  {
   "cell_type": "code",
   "execution_count": 2,
   "id": "68afb2db",
   "metadata": {},
   "outputs": [],
   "source": [
    "import bamboolib as bam\n",
    "import pandas as pd\n",
    "import json\n",
    "import requests\n",
    "import ipywidgets as widgets\n",
    "from ipywidgets import Layout,GridspecLayout,interactive, interact, interact_manual,IntProgress,VBox,HBox,Button, ButtonStyle, Select, Output,FileUpload\n",
    "from IPython.display import HTML, display, clear_output, FileLink, FileLinks\n",
    "from helpers.remote_urls import *"
   ]
  },
  {
   "cell_type": "markdown",
   "id": "4b0ada67",
   "metadata": {},
   "source": [
    "## Import data from url"
   ]
  },
  {
   "cell_type": "markdown",
   "id": "d1f1941b",
   "metadata": {},
   "source": [
    "### CSV data"
   ]
  },
  {
   "cell_type": "code",
   "execution_count": null,
   "id": "704f7ba0",
   "metadata": {},
   "outputs": [],
   "source": [
    "# Replace dataurl with your url and execute cell\n",
    "# The default kwargs are csvsep=',' and encoding='utf8'\n",
    "# Replace with yours if necessary, for example et_remote_csv(\"https://.....csv\", csvsep=\";\") \n",
    "df = get_remote_csv(dataurl)\n",
    "df"
   ]
  },
  {
   "cell_type": "markdown",
   "id": "89b27d7b",
   "metadata": {},
   "source": [
    "### Simple Json data"
   ]
  },
  {
   "cell_type": "code",
   "execution_count": null,
   "id": "c2b18da3",
   "metadata": {},
   "outputs": [],
   "source": [
    "# Replace dataurl with your url and execute cell\n",
    "df = get_remote_simple_json(dataurl)\n",
    "df"
   ]
  },
  {
   "cell_type": "markdown",
   "id": "bb268bb0",
   "metadata": {},
   "source": [
    "### Nested Json"
   ]
  },
  {
   "cell_type": "code",
   "execution_count": null,
   "id": "d759534c",
   "metadata": {},
   "outputs": [],
   "source": [
    "# Replace dataurl with your url and execute cell\n",
    "# The default kwargs are depth=2\n",
    "# Replace with yours if necessary, for example get_remote_nested_json(\"https://.....json\", depth=5) \n",
    "df = get_remote_nested_json(dataurl)\n",
    "df"
   ]
  },
  {
   "cell_type": "markdown",
   "id": "fb129502",
   "metadata": {},
   "source": [
    "## Import Json static file"
   ]
  },
  {
   "cell_type": "markdown",
   "id": "9911390d",
   "metadata": {},
   "source": [
    "### Simple Json data"
   ]
  },
  {
   "cell_type": "code",
   "execution_count": null,
   "id": "7dbda3d3",
   "metadata": {},
   "outputs": [],
   "source": [
    "# Replace file with your file name (with eventually relative filepath) in the volume folder /home/<username>/datasets/ and execute cell\n",
    "# Example : get_static_simple_json(\"data.json\") will load /home/<usernams>/datasets/data.json\n",
    "# Example : get_static_simple_json(\"project/data.json\") will load /home/<usernams>/datasets/project/data.json\n",
    "df = get_static_simple_json(file)\n",
    "df"
   ]
  },
  {
   "cell_type": "markdown",
   "id": "a21fd899",
   "metadata": {},
   "source": [
    "### Nested Json data"
   ]
  },
  {
   "cell_type": "code",
   "execution_count": null,
   "id": "55735eb3",
   "metadata": {},
   "outputs": [],
   "source": [
    "# Replace dataurl with your url and execute cell\n",
    "# The default kwargs are depth=2\n",
    "# Replace with yours if necessary, for example get_static_nested_json(\"data.json\", depth=5) \n",
    "# see above for the file variable\n",
    "df = get_static_nested_json(file)\n",
    "df"
   ]
  },
  {
   "cell_type": "markdown",
   "id": "c3460fd9",
   "metadata": {},
   "source": [
    "## import static CSV or Excel file"
   ]
  },
  {
   "cell_type": "markdown",
   "id": "2dae3d82",
   "metadata": {},
   "source": [
    "See the bamboolib native dataloader in the [bamboolib UI](\"../main.ipynb\")"
   ]
  }
 ],
 "metadata": {
  "kernelspec": {
   "display_name": "Python 3 (ipykernel)",
   "language": "python",
   "name": "python3"
  },
  "language_info": {
   "codemirror_mode": {
    "name": "ipython",
    "version": 3
   },
   "file_extension": ".py",
   "mimetype": "text/x-python",
   "name": "python",
   "nbconvert_exporter": "python",
   "pygments_lexer": "ipython3",
   "version": "3.8.13"
  },
  "varInspector": {
   "cols": {
    "lenName": 16,
    "lenType": 16,
    "lenVar": 40
   },
   "kernels_config": {
    "python": {
     "delete_cmd_postfix": "",
     "delete_cmd_prefix": "del ",
     "library": "var_list.py",
     "varRefreshCmd": "print(var_dic_list())"
    },
    "r": {
     "delete_cmd_postfix": ") ",
     "delete_cmd_prefix": "rm(",
     "library": "var_list.r",
     "varRefreshCmd": "cat(var_dic_list()) "
    }
   },
   "types_to_exclude": [
    "module",
    "function",
    "builtin_function_or_method",
    "instance",
    "_Feature"
   ],
   "window_display": false
  }
 },
 "nbformat": 4,
 "nbformat_minor": 5
}
