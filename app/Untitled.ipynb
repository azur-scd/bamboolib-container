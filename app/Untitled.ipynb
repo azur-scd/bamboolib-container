{
 "cells": [
  {
   "cell_type": "code",
   "execution_count": 1,
   "id": "5fd1df33",
   "metadata": {},
   "outputs": [
    {
     "name": "stdout",
     "output_type": "stream",
     "text": [
      "Collecting PivotTableJS\n",
      "  Downloading pivottablejs-0.9.0-py2.py3-none-any.whl (4.7 kB)\n",
      "Installing collected packages: PivotTableJS\n",
      "Successfully installed PivotTableJS-0.9.0\n",
      "Note: you may need to restart the kernel to use updated packages.\n"
     ]
    }
   ],
   "source": [
    "pip install PivotTableJS"
   ]
  },
  {
   "cell_type": "code",
   "execution_count": 2,
   "id": "73d006e6",
   "metadata": {},
   "outputs": [
    {
     "name": "stdout",
     "output_type": "stream",
     "text": [
      "Note: you may need to restart the kernel to use updated packages.\n"
     ]
    }
   ],
   "source": [
    "pip freeze > requirements.txt"
   ]
  },
  {
   "cell_type": "code",
   "execution_count": 4,
   "id": "997ba73d",
   "metadata": {},
   "outputs": [],
   "source": [
    "import pandas as pd\n",
    "import bamboolib as bam\n",
    "from pivottablejs import pivot_ui"
   ]
  },
  {
   "cell_type": "code",
   "execution_count": 5,
   "id": "7f213881",
   "metadata": {},
   "outputs": [
    {
     "data": {
      "application/vnd.jupyter.widget-view+json": {
       "model_id": "297dd84786af4950870959dc36a2cf3f"
      },
      "text/plain": [
       "     accessible auteurs_0_idref  auteurs_0_nom auteurs_0_prenom   cas  \\\n",
       "0           oui       183105028        Drogoul           Audric  cas1   \n",
       "1           oui       15209394X         Auxire         Nathalie  cas1   \n",
       "2           non       180728253       Tamboura          Hamidou  cas5   \n",
       "3           non       188533699          Tahar       Abdelkader  cas6   \n",
       "4           non       178077283          Shala           Sabiha  cas5   \n",
       "...         ...             ...            ...              ...   ...   \n",
       "2182        non       233261397      Lebeaupin          Cynthia  cas5   \n",
       "2183        oui       224845969       Molléro             Roch  cas1   \n",
       "2184        oui       244370737  Paraschivescu         Cristina  cas1   \n",
       "2185        non       202409481       Evenstad    Solveig Beyza  cas2   \n",
       "2186        oui       253879868          Jouni           Hassan  cas1   \n",
       "\n",
       "     code_etab date_soutenance directeurs_these_0_idref  \\\n",
       "0         NICE      2014-10-08                07726357X   \n",
       "1         NICE      2015-11-02                067302564   \n",
       "2         NICE      2014-04-15                031724027   \n",
       "3         NICE      2015-05-27                052195929   \n",
       "4         NICE      2013-12-14                031208584   \n",
       "...        ...             ...                      ...   \n",
       "2182      AZUR      2018-04-26                074100718   \n",
       "2183      AZUR      2017-12-19                029254868   \n",
       "2184      AZUR      2019-12-19                235523933   \n",
       "2185      AZUR      2016-12-12                034424989   \n",
       "2186      AZUR      2018-12-14                110356004   \n",
       "\n",
       "     directeurs_these_0_nom directeurs_these_0_prenom  ... has_exist_embargo  \\\n",
       "0                    Auroux                    Didier  ...               non   \n",
       "1                  Biagioli                    Nicole  ...               non   \n",
       "2                  Boursier                 Jean-Yves  ...               non   \n",
       "3                    Jansen                  Philippe  ...               non   \n",
       "4                    Vallar                 Christian  ...               non   \n",
       "...                     ...                       ...  ...               ...   \n",
       "2182         Bailly-Maître                 Béatrice  ...               non   \n",
       "2183                 Ayache                  Nicholas  ...               non   \n",
       "2184              Davidovic                 Laëtitia  ...               non   \n",
       "2185              Pélissier                   Nicolas  ...               oui   \n",
       "2186              Jacquemod                    Gilles  ...               non   \n",
       "\n",
       "     oai_set_specs_0 oai_set_specs_1  \\\n",
       "0            ddc:510         ddc:620   \n",
       "1            ddc:370             NaN   \n",
       "2            ddc:300             NaN   \n",
       "3            ddc:720             NaN   \n",
       "4            ddc:340             NaN   \n",
       "...              ...             ...   \n",
       "2182         ddc:570         ddc:610   \n",
       "2183         ddc:620             NaN   \n",
       "2184         ddc:570             NaN   \n",
       "2185         ddc:020         ddc:150   \n",
       "2186         ddc:620             NaN   \n",
       "\n",
       "                              oai_set_specs_0_label    oai_set_specs_1_label  \\\n",
       "0                                     Mathématiques  Sciences de l'ingénieur   \n",
       "1                         Education et enseignement                      NaN   \n",
       "2      Sciences sociales, sociologie, anthropologie                      NaN   \n",
       "3                                      Architecture                      NaN   \n",
       "4                                             Droit                      NaN   \n",
       "...                                             ...                      ...   \n",
       "2182        Sciences de la vie, biologie, biochimie        Médecine et santé   \n",
       "2183                        Sciences de l'ingénieur                      NaN   \n",
       "2184        Sciences de la vie, biologie, biochimie                      NaN   \n",
       "2185  Bibliothéconomie et sciences de l'information              Psychologie   \n",
       "2186                        Sciences de l'ingénieur                      NaN   \n",
       "\n",
       "     oai_set_specs_0_regroup                 oai_set_specs_0_regroup_label  \\\n",
       "0                    ddc:500        Sciences de la nature et mathématiques   \n",
       "1                    ddc:300  Sciences sociales, sociologie, anthropologie   \n",
       "2                    ddc:300  Sciences sociales, sociologie, anthropologie   \n",
       "3                    ddc:700           Arts. Beaux-arts et arts décoratifs   \n",
       "4                    ddc:300  Sciences sociales, sociologie, anthropologie   \n",
       "...                      ...                                           ...   \n",
       "2182                 ddc:500        Sciences de la nature et mathématiques   \n",
       "2183                 ddc:600             Technologie (Sciences appliquées)   \n",
       "2184                 ddc:500        Sciences de la nature et mathématiques   \n",
       "2185                 ddc:000        Informatique, information, généralités   \n",
       "2186                 ddc:600             Technologie (Sciences appliquées)   \n",
       "\n",
       "     oai_set_specs_1_regroup      oai_set_specs_1_regroup_label  \\\n",
       "0                    ddc:600  Technologie (Sciences appliquées)   \n",
       "1                        NaN                                NaN   \n",
       "2                        NaN                                NaN   \n",
       "3                        NaN                                NaN   \n",
       "4                        NaN                                NaN   \n",
       "...                      ...                                ...   \n",
       "2182                 ddc:600  Technologie (Sciences appliquées)   \n",
       "2183                     NaN                                NaN   \n",
       "2184                     NaN                                NaN   \n",
       "2185                 ddc:100           Philosophie, psychologie   \n",
       "2186                     NaN                                NaN   \n",
       "\n",
       "                 oai_set_specs_0_main_domain  \n",
       "0              Sciences, Technologies, Santé  \n",
       "1     Lettres, sciences Humaines et Sociales  \n",
       "2     Lettres, sciences Humaines et Sociales  \n",
       "3     Lettres, sciences Humaines et Sociales  \n",
       "4     Lettres, sciences Humaines et Sociales  \n",
       "...                                      ...  \n",
       "2182           Sciences, Technologies, Santé  \n",
       "2183           Sciences, Technologies, Santé  \n",
       "2184           Sciences, Technologies, Santé  \n",
       "2185  Lettres, sciences Humaines et Sociales  \n",
       "2186           Sciences, Technologies, Santé  \n",
       "\n",
       "[2187 rows x 49 columns]"
      ]
     },
     "metadata": {},
     "output_type": "display_data"
    }
   ],
   "source": [
    "df = pd.read_csv(\"https://raw.githubusercontent.com/azur-scd/dagster-workflows/main/app/bso_theses/03_primary/2022-05-30/theses_uca_processed.csv\",sep=\",\",encoding=\"utf-8\")\n",
    "df"
   ]
  },
  {
   "cell_type": "code",
   "execution_count": 6,
   "id": "04ce9961",
   "metadata": {},
   "outputs": [
    {
     "data": {
      "text/html": [
       "\n",
       "        <iframe\n",
       "            width=\"100%\"\n",
       "            height=\"500\"\n",
       "            src=\"pivottablejs.html\"\n",
       "            frameborder=\"0\"\n",
       "            allowfullscreen\n",
       "            \n",
       "        ></iframe>\n",
       "        "
      ],
      "text/plain": [
       "<IPython.lib.display.IFrame at 0x7f69793f52e0>"
      ]
     },
     "execution_count": 6,
     "metadata": {},
     "output_type": "execute_result"
    }
   ],
   "source": [
    "pivot_ui(df)"
   ]
  },
  {
   "cell_type": "code",
   "execution_count": null,
   "id": "9344e5e2",
   "metadata": {},
   "outputs": [],
   "source": []
  }
 ],
 "metadata": {
  "kernelspec": {
   "display_name": "Python 3 (ipykernel)",
   "language": "python",
   "name": "python3"
  },
  "language_info": {
   "codemirror_mode": {
    "name": "ipython",
    "version": 3
   },
   "file_extension": ".py",
   "mimetype": "text/x-python",
   "name": "python",
   "nbconvert_exporter": "python",
   "pygments_lexer": "ipython3",
   "version": "3.8.15"
  }
 },
 "nbformat": 4,
 "nbformat_minor": 5
}
