{
 "cells": [
  {
   "cell_type": "code",
   "execution_count": 1,
   "id": "68afb2db",
   "metadata": {},
   "outputs": [],
   "source": [
    "import bamboolib as bam\n",
    "import pandas as pd\n",
    "import json\n",
    "import requests\n",
    "from helpers.loading_functions import *"
   ]
  },
  {
   "cell_type": "markdown",
   "id": "c28088c8",
   "metadata": {},
   "source": [
    "## Import data from local static files"
   ]
  },
  {
   "cell_type": "markdown",
   "id": "8515577a",
   "metadata": {},
   "source": [
    "### CSV and Excel files with the Bamboolib natice dataloader"
   ]
  },
  {
   "cell_type": "code",
   "execution_count": 2,
   "id": "5a7feb48",
   "metadata": {},
   "outputs": [
    {
     "data": {
      "application/vnd.jupyter.widget-view+json": {
       "model_id": "11516d89dbff4f7ab65a5611d70f7a5e",
       "version_major": 2,
       "version_minor": 0
      },
      "text/plain": [
       "BamboolibModuleWindow(children=(Window(children=(VBox(children=(VBox(children=(Button(description='Read CSV fi…"
      ]
     },
     "metadata": {},
     "output_type": "display_data"
    }
   ],
   "source": [
    "bam"
   ]
  },
  {
   "cell_type": "markdown",
   "id": "3d9f422f",
   "metadata": {},
   "source": [
    "### Json files\n",
    "\n",
    "The files must be in the datasets folder."
   ]
  },
  {
   "cell_type": "markdown",
   "id": "1e6b9148",
   "metadata": {},
   "source": [
    "#### Simple Json data"
   ]
  },
  {
   "cell_type": "code",
   "execution_count": null,
   "id": "7f8ba126",
   "metadata": {},
   "outputs": [],
   "source": [
    "# Replace file with your file path and file name in the volume and execute cell\n",
    "# Example path : get_static_simple_json(\"datasets/data.json\")\n",
    "df = get_static_simple_json(file)\n",
    "df"
   ]
  },
  {
   "cell_type": "markdown",
   "id": "6842f4a5",
   "metadata": {},
   "source": [
    "#### Nested Json"
   ]
  },
  {
   "cell_type": "code",
   "execution_count": null,
   "id": "13bfe14f",
   "metadata": {},
   "outputs": [],
   "source": [
    "# Replace dataurl with your url and execute cell\n",
    "# The default kwargs are depth=2\n",
    "# Replace with yours if necessary, for example get_remote_nested_json(\"https://.....json\", depth=5) \n",
    "df = get_remote_nested_json(dataurl)\n",
    "df"
   ]
  },
  {
   "cell_type": "markdown",
   "id": "4b0ada67",
   "metadata": {},
   "source": [
    "## Import data from url"
   ]
  },
  {
   "cell_type": "markdown",
   "id": "d1f1941b",
   "metadata": {},
   "source": [
    "### CSV data"
   ]
  },
  {
   "cell_type": "code",
   "execution_count": null,
   "id": "704f7ba0",
   "metadata": {},
   "outputs": [],
   "source": [
    "# Replace dataurl with your url and execute cell\n",
    "# The default kwargs are csvsep=',' and encoding='utf8'\n",
    "# Replace with yours if necessary, for example et_remote_csv(\"https://.....csv\", csvsep=\";\") \n",
    "df = get_remote_csv(dataurl)\n",
    "df"
   ]
  },
  {
   "cell_type": "markdown",
   "id": "89b27d7b",
   "metadata": {},
   "source": [
    "### Simple Json data"
   ]
  },
  {
   "cell_type": "code",
   "execution_count": null,
   "id": "c2b18da3",
   "metadata": {},
   "outputs": [],
   "source": [
    "# Replace dataurl with your url and execute cell\n",
    "df = get_remote_simple_json(dataurl)\n",
    "df"
   ]
  },
  {
   "cell_type": "markdown",
   "id": "bb268bb0",
   "metadata": {},
   "source": [
    "### Nested Json"
   ]
  },
  {
   "cell_type": "code",
   "execution_count": null,
   "id": "d759534c",
   "metadata": {},
   "outputs": [],
   "source": [
    "# Replace dataurl with your url and execute cell\n",
    "# The default kwargs are depth=2\n",
    "# Replace with yours if necessary, for example get_remote_nested_json(\"https://.....json\", depth=5) \n",
    "df = get_remote_nested_json(dataurl)\n",
    "df"
   ]
  }
 ],
 "metadata": {
  "kernelspec": {
   "display_name": "Python 3 (ipykernel)",
   "language": "python",
   "name": "python3"
  },
  "language_info": {
   "codemirror_mode": {
    "name": "ipython",
    "version": 3
   },
   "file_extension": ".py",
   "mimetype": "text/x-python",
   "name": "python",
   "nbconvert_exporter": "python",
   "pygments_lexer": "ipython3",
   "version": "3.8.13"
  },
  "varInspector": {
   "cols": {
    "lenName": 16,
    "lenType": 16,
    "lenVar": 40
   },
   "kernels_config": {
    "python": {
     "delete_cmd_postfix": "",
     "delete_cmd_prefix": "del ",
     "library": "var_list.py",
     "varRefreshCmd": "print(var_dic_list())"
    },
    "r": {
     "delete_cmd_postfix": ") ",
     "delete_cmd_prefix": "rm(",
     "library": "var_list.r",
     "varRefreshCmd": "cat(var_dic_list()) "
    }
   },
   "types_to_exclude": [
    "module",
    "function",
    "builtin_function_or_method",
    "instance",
    "_Feature"
   ],
   "window_display": false
  }
 },
 "nbformat": 4,
 "nbformat_minor": 5
}
