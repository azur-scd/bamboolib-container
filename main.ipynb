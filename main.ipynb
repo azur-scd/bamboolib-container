{
 "cells": [
  {
   "cell_type": "code",
   "execution_count": 69,
   "id": "d1174bec",
   "metadata": {},
   "outputs": [],
   "source": [
    "import bamboolib as bam\n",
    "import pandas as pd\n",
    "import json\n",
    "import requests\n",
    "import ipywidgets as widgets\n",
    "from ipywidgets import Layout,GridspecLayout,interact, interact_manual,IntProgress,VBox,HBox,Button, ButtonStyle, Output,FileUpload\n",
    "from IPython.display import HTML, display, clear_output, FileLink, FileLinks\n",
    "import io"
   ]
  },
  {
   "cell_type": "markdown",
   "id": "973f2970",
   "metadata": {},
   "source": [
    "## Bamboolib Loader"
   ]
  },
  {
   "cell_type": "markdown",
   "id": "1c3dc3b6",
   "metadata": {},
   "source": [
    "### Links to custom Notebooks"
   ]
  },
  {
   "cell_type": "code",
   "execution_count": null,
   "id": "e2634279",
   "metadata": {},
   "outputs": [],
   "source": [
    "filelinks_button = widgets.Button(description=\"Voir les notebooks disponibles\",\n",
    "                                  button_style='success',\n",
    "                                  layout = Layout(width='300px'))\n",
    "filelinks_output = widgets.Output()\n",
    "def on_flbutton_clicked(b):\n",
    "    with filelinks_output:\n",
    "        display(FileLinks(\"./bamboolib-notebooks\",url_prefix=\"http://localhost:8888\",included_suffixes=[\".ipynb\"],recursive=False))\n",
    "filelinks_button.on_click(on_flbutton_clicked) \n",
    "\n",
    "display(filelinks_button,filelinks_output)"
   ]
  },
  {
   "cell_type": "markdown",
   "id": "6bbb3112",
   "metadata": {},
   "source": [
    "### Native bamboolib dataloader"
   ]
  },
  {
   "cell_type": "code",
   "execution_count": null,
   "id": "e74740a8",
   "metadata": {},
   "outputs": [],
   "source": [
    "bam"
   ]
  }
 ],
 "metadata": {
  "kernelspec": {
   "display_name": "venv_bamboolib",
   "language": "python",
   "name": "venv_bamboolib"
  },
  "language_info": {
   "codemirror_mode": {
    "name": "ipython",
    "version": 3
   },
   "file_extension": ".py",
   "mimetype": "text/x-python",
   "name": "python",
   "nbconvert_exporter": "python",
   "pygments_lexer": "ipython3",
   "version": "3.8.11"
  },
  "varInspector": {
   "cols": {
    "lenName": 16,
    "lenType": 16,
    "lenVar": 40
   },
   "kernels_config": {
    "python": {
     "delete_cmd_postfix": "",
     "delete_cmd_prefix": "del ",
     "library": "var_list.py",
     "varRefreshCmd": "print(var_dic_list())"
    },
    "r": {
     "delete_cmd_postfix": ") ",
     "delete_cmd_prefix": "rm(",
     "library": "var_list.r",
     "varRefreshCmd": "cat(var_dic_list()) "
    }
   },
   "types_to_exclude": [
    "module",
    "function",
    "builtin_function_or_method",
    "instance",
    "_Feature"
   ],
   "window_display": false
  }
 },
 "nbformat": 4,
 "nbformat_minor": 5
}
